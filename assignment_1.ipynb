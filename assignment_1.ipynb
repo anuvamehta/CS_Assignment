{
 "cells": [
  {
   "cell_type": "code",
   "execution_count": 2,
   "metadata": {},
   "outputs": [
    {
     "name": "stdout",
     "output_type": "stream",
     "text": [
      "enter few interger numbers for the list: 09890\n",
      "['0', '9', '8', '9', '0']\n",
      "['0', '8', '9']\n"
     ]
    }
   ],
   "source": [
    "#question_1\n",
    "\n",
    "a=list(input(\"enter few interger numbers for the list: \"))\n",
    "print(a)\n",
    "a=list(set(a))\n",
    "print(a)"
   ]
  },
  {
   "cell_type": "code",
   "execution_count": 4,
   "metadata": {},
   "outputs": [
    {
     "name": "stdout",
     "output_type": "stream",
     "text": [
      "enter number of elements : 4\n",
      "enter elements : 3\n",
      "enter elements : 4\n",
      "enter elements : 2\n",
      "enter elements : 8\n",
      "length : 4\n",
      "sum : 17\n",
      "min no : 2\n",
      "max no :  8\n"
     ]
    }
   ],
   "source": [
    "#question_2\n",
    "\n",
    "lst=[]\n",
    "t=int(input(\"enter number of elements : \"))\n",
    "\n",
    "for i in range(1,t+1):\n",
    "    lst.append(int(input(\"enter elements : \")))\n",
    "lst=tuple(lst)    \n",
    "\n",
    "print('length :',len(lst))\n",
    "print('sum :',sum(lst))\n",
    "print('min no :',min(lst))\n",
    "print('max no : ',max(lst))"
   ]
  },
  {
   "cell_type": "code",
   "execution_count": 5,
   "metadata": {
    "scrolled": true
   },
   "outputs": [
    {
     "name": "stdout",
     "output_type": "stream",
     "text": [
      "2\n",
      "7\n"
     ]
    }
   ],
   "source": [
    "#question_3\n",
    "\n",
    "a=5\n",
    "i=1\n",
    "mask=(1<<i)\n",
    "print(mask)\n",
    "num=a^mask\n",
    "print(num)"
   ]
  },
  {
   "cell_type": "code",
   "execution_count": 6,
   "metadata": {},
   "outputs": [
    {
     "name": "stdout",
     "output_type": "stream",
     "text": [
      "enter a no.: 6482010192989\n"
     ]
    },
    {
     "data": {
      "text/plain": [
       "1"
      ]
     },
     "execution_count": 6,
     "metadata": {},
     "output_type": "execute_result"
    }
   ],
   "source": [
    "#question_4\n",
    "\n",
    "x=int(input(\"enter a no.: \"))\n",
    "x%2"
   ]
  },
  {
   "cell_type": "code",
   "execution_count": 7,
   "metadata": {},
   "outputs": [
    {
     "name": "stdout",
     "output_type": "stream",
     "text": [
      "list before sort [1, 7, 3, 2, 5, 4]\n",
      "list after sort [1, 2, 3, 4, 5, 7]\n"
     ]
    }
   ],
   "source": [
    "#question_5\n",
    "\n",
    "a=[1,7,3] \n",
    "b=[2,5,4]\n",
    "l=a+b\n",
    "print('list before sort',l)\n",
    "l.sort()\n",
    "print('list after sort',l)\n"
   ]
  }
 ],
 "metadata": {
  "kernelspec": {
   "display_name": "Python 3",
   "language": "python",
   "name": "python3"
  },
  "language_info": {
   "codemirror_mode": {
    "name": "ipython",
    "version": 3
   },
   "file_extension": ".py",
   "mimetype": "text/x-python",
   "name": "python",
   "nbconvert_exporter": "python",
   "pygments_lexer": "ipython3",
   "version": "3.7.6"
  }
 },
 "nbformat": 4,
 "nbformat_minor": 4
}
